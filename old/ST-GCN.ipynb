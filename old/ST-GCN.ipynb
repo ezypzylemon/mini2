{
 "cells": [
  {
   "cell_type": "code",
   "execution_count": 1,
   "metadata": {},
   "outputs": [
    {
     "name": "stderr",
     "output_type": "stream",
     "text": [
      "Cloning into 'st-gcn'...\n",
      "ERROR: Could not open requirements file: [Errno 2] No such file or directory: 'requirements.txt'\n"
     ]
    }
   ],
   "source": [
    "!git clone https://github.com/yysijie/st-gcn.git\n",
    "!cd st-gcn\n",
    "%pip install -r c:\\Users\\Admin\\Documents\\GitHub\\st-gcn\\requirements.txt\n"
   ]
  },
  {
   "cell_type": "code",
   "execution_count": 2,
   "metadata": {},
   "outputs": [
    {
     "name": "stdout",
     "output_type": "stream",
     "text": [
      "Requirement already satisfied: pyyaml in c:\\users\\admin\\miniconda3\\envs\\kpmg2\\lib\\site-packages (from -r c:\\Users\\Admin\\Documents\\GitHub\\st-gcn\\requirements.txt (line 1)) (6.0.2)\n",
      "Collecting argparse (from -r c:\\Users\\Admin\\Documents\\GitHub\\st-gcn\\requirements.txt (line 2))\n",
      "  Downloading argparse-1.4.0-py2.py3-none-any.whl.metadata (2.8 kB)\n",
      "Requirement already satisfied: numpy in c:\\users\\admin\\appdata\\roaming\\python\\python310\\site-packages (from -r c:\\Users\\Admin\\Documents\\GitHub\\st-gcn\\requirements.txt (line 3)) (1.26.4)\n",
      "Requirement already satisfied: h5py in c:\\users\\admin\\appdata\\roaming\\python\\python310\\site-packages (from -r c:\\Users\\Admin\\Documents\\GitHub\\st-gcn\\requirements.txt (line 4)) (3.12.1)\n",
      "Requirement already satisfied: opencv-python in c:\\users\\admin\\miniconda3\\envs\\kpmg2\\lib\\site-packages (from -r c:\\Users\\Admin\\Documents\\GitHub\\st-gcn\\requirements.txt (line 5)) (4.11.0.86)\n",
      "Collecting imageio (from -r c:\\Users\\Admin\\Documents\\GitHub\\st-gcn\\requirements.txt (line 6))\n",
      "  Downloading imageio-2.37.0-py3-none-any.whl.metadata (5.2 kB)\n",
      "Collecting scikit-video (from -r c:\\Users\\Admin\\Documents\\GitHub\\st-gcn\\requirements.txt (line 7))\n",
      "  Downloading scikit_video-1.1.11-py2.py3-none-any.whl.metadata (1.1 kB)\n",
      "Requirement already satisfied: torch in c:\\users\\admin\\appdata\\roaming\\python\\python310\\site-packages (from -r c:\\Users\\Admin\\Documents\\GitHub\\st-gcn\\requirements.txt (line 8)) (2.5.1+cu118)\n",
      "Requirement already satisfied: torchvision in c:\\users\\admin\\appdata\\roaming\\python\\python310\\site-packages (from -r c:\\Users\\Admin\\Documents\\GitHub\\st-gcn\\requirements.txt (line 9)) (0.20.1+cu118)\n",
      "Requirement already satisfied: pillow>=8.3.2 in c:\\users\\admin\\miniconda3\\envs\\kpmg2\\lib\\site-packages (from imageio->-r c:\\Users\\Admin\\Documents\\GitHub\\st-gcn\\requirements.txt (line 6)) (11.0.0)\n",
      "Requirement already satisfied: scipy in c:\\users\\admin\\miniconda3\\envs\\kpmg2\\lib\\site-packages (from scikit-video->-r c:\\Users\\Admin\\Documents\\GitHub\\st-gcn\\requirements.txt (line 7)) (1.11.4)\n",
      "Collecting filelock (from torch->-r c:\\Users\\Admin\\Documents\\GitHub\\st-gcn\\requirements.txt (line 8))\n",
      "  Downloading filelock-3.17.0-py3-none-any.whl.metadata (2.9 kB)\n",
      "Requirement already satisfied: typing-extensions>=4.8.0 in c:\\users\\admin\\miniconda3\\envs\\kpmg2\\lib\\site-packages (from torch->-r c:\\Users\\Admin\\Documents\\GitHub\\st-gcn\\requirements.txt (line 8)) (4.12.2)\n",
      "Collecting networkx (from torch->-r c:\\Users\\Admin\\Documents\\GitHub\\st-gcn\\requirements.txt (line 8))\n",
      "  Using cached networkx-3.4.2-py3-none-any.whl.metadata (6.3 kB)\n",
      "Requirement already satisfied: jinja2 in c:\\users\\admin\\miniconda3\\envs\\kpmg2\\lib\\site-packages (from torch->-r c:\\Users\\Admin\\Documents\\GitHub\\st-gcn\\requirements.txt (line 8)) (3.1.4)\n",
      "Collecting fsspec (from torch->-r c:\\Users\\Admin\\Documents\\GitHub\\st-gcn\\requirements.txt (line 8))\n",
      "  Downloading fsspec-2024.12.0-py3-none-any.whl.metadata (11 kB)\n",
      "Collecting sympy==1.13.1 (from torch->-r c:\\Users\\Admin\\Documents\\GitHub\\st-gcn\\requirements.txt (line 8))\n",
      "  Using cached sympy-1.13.1-py3-none-any.whl.metadata (12 kB)\n",
      "Collecting mpmath<1.4,>=1.1.0 (from sympy==1.13.1->torch->-r c:\\Users\\Admin\\Documents\\GitHub\\st-gcn\\requirements.txt (line 8))\n",
      "  Using cached mpmath-1.3.0-py3-none-any.whl.metadata (8.6 kB)\n",
      "Requirement already satisfied: MarkupSafe>=2.0 in c:\\users\\admin\\appdata\\roaming\\python\\python310\\site-packages (from jinja2->torch->-r c:\\Users\\Admin\\Documents\\GitHub\\st-gcn\\requirements.txt (line 8)) (3.0.2)\n",
      "Downloading argparse-1.4.0-py2.py3-none-any.whl (23 kB)\n",
      "Downloading imageio-2.37.0-py3-none-any.whl (315 kB)\n",
      "Downloading scikit_video-1.1.11-py2.py3-none-any.whl (2.3 MB)\n",
      "   ---------------------------------------- 0.0/2.3 MB ? eta -:--:--\n",
      "   ---------------------------------------- 2.3/2.3 MB 31.6 MB/s eta 0:00:00\n",
      "Using cached sympy-1.13.1-py3-none-any.whl (6.2 MB)\n",
      "Downloading filelock-3.17.0-py3-none-any.whl (16 kB)\n",
      "Downloading fsspec-2024.12.0-py3-none-any.whl (183 kB)\n",
      "Using cached networkx-3.4.2-py3-none-any.whl (1.7 MB)\n",
      "Using cached mpmath-1.3.0-py3-none-any.whl (536 kB)\n",
      "Installing collected packages: mpmath, argparse, sympy, networkx, imageio, fsspec, filelock, scikit-video\n",
      "Successfully installed argparse-1.4.0 filelock-3.17.0 fsspec-2024.12.0 imageio-2.37.0 mpmath-1.3.0 networkx-3.4.2 scikit-video-1.1.11 sympy-1.13.1\n",
      "Note: you may need to restart the kernel to use updated packages.\n"
     ]
    }
   ],
   "source": [
    "%pip install -r c:\\Users\\Admin\\Documents\\GitHub\\st-gcn\\requirements.txt\n"
   ]
  }
 ],
 "metadata": {
  "kernelspec": {
   "display_name": "kpmg2",
   "language": "python",
   "name": "python3"
  },
  "language_info": {
   "codemirror_mode": {
    "name": "ipython",
    "version": 3
   },
   "file_extension": ".py",
   "mimetype": "text/x-python",
   "name": "python",
   "nbconvert_exporter": "python",
   "pygments_lexer": "ipython3",
   "version": "3.10.16"
  }
 },
 "nbformat": 4,
 "nbformat_minor": 2
}
