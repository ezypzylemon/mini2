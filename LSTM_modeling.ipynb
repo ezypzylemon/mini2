{
 "cells": [
  {
   "cell_type": "code",
   "execution_count": 8,
   "metadata": {},
   "outputs": [],
   "source": [
    "import os\n",
    "import numpy as np\n",
    "from sklearn.model_selection import train_test_split\n",
    "from torch.utils.data import DataLoader, TensorDataset\n",
    "import torch\n",
    "import torch.nn as nn\n",
    "import torch.optim as optim"
   ]
  },
  {
   "cell_type": "code",
   "execution_count": 16,
   "metadata": {},
   "outputs": [],
   "source": [
    "# 데이터 경로 설정\n",
    "base_dir = \"C:/Users/Admin/Desktop/모션저장\"\n",
    "categories = [\"등\", \"스쿼트\", \"옆구리\"]"
   ]
  },
  {
   "cell_type": "code",
   "execution_count": 17,
   "metadata": {},
   "outputs": [
    {
     "name": "stdout",
     "output_type": "stream",
     "text": [
      "Checking files in: C:/Users/Admin/Desktop/모션저장\\등\\좌표\n",
      "Checking files in: C:/Users/Admin/Desktop/모션저장\\스쿼트\\좌표\n",
      "Checking files in: C:/Users/Admin/Desktop/모션저장\\옆구리\\좌표\n",
      "Data shape: (30, 30, 33, 3), Labels shape: (30,)\n"
     ]
    }
   ],
   "source": [
    "def load_data(base_dir, categories, seq_len=30):\n",
    "    \"\"\"\n",
    "    데이터 로드 및 크기 조정 (패딩 또는 잘라내기).\n",
    "    Args:\n",
    "        base_dir (str): 데이터가 저장된 기본 경로.\n",
    "        categories (list): 행동 카테고리 리스트.\n",
    "        seq_len (int): 고정된 시퀀스 길이.\n",
    "    Returns:\n",
    "        np.array: 데이터 배열.\n",
    "        np.array: 라벨 배열.\n",
    "    \"\"\"\n",
    "    data = []\n",
    "    labels = []\n",
    "    label_map = {category: idx for idx, category in enumerate(categories)}  # 라벨 매핑\n",
    "\n",
    "    for category in categories:\n",
    "        category_path = os.path.join(base_dir, category, \"좌표\")\n",
    "        print(f\"Checking files in: {category_path}\")\n",
    "        for i in range(1, 11):  # keypoints_1 ~ keypoints_10\n",
    "            file_path = os.path.join(category_path, f\"keypoints_{i}.npy\")\n",
    "            if os.path.exists(file_path):\n",
    "                keypoints = np.load(file_path)  # 데이터 로드\n",
    "                if keypoints.shape[0] > seq_len:  # 길이가 seq_len보다 길면 잘라내기\n",
    "                    keypoints = keypoints[:seq_len]\n",
    "                elif keypoints.shape[0] < seq_len:  # 길이가 seq_len보다 짧으면 패딩\n",
    "                    pad_width = seq_len - keypoints.shape[0]\n",
    "                    keypoints = np.pad(keypoints, ((0, pad_width), (0, 0), (0, 0)), mode='constant')\n",
    "                data.append(keypoints)\n",
    "                labels.append(label_map[category])\n",
    "            else:\n",
    "                print(f\"File not found: {file_path}\")\n",
    "\n",
    "    return np.array(data), np.array(labels)\n",
    "\n",
    "# 수정된 데이터 로드 실행\n",
    "data, labels = load_data(base_dir, categories)\n",
    "print(f\"Data shape: {data.shape}, Labels shape: {labels.shape}\")"
   ]
  },
  {
   "cell_type": "code",
   "execution_count": 18,
   "metadata": {},
   "outputs": [
    {
     "name": "stdout",
     "output_type": "stream",
     "text": [
      "Checking files in: C:/Users/Admin/Desktop/모션저장\\등\\좌표\n",
      "Checking files in: C:/Users/Admin/Desktop/모션저장\\스쿼트\\좌표\n",
      "Checking files in: C:/Users/Admin/Desktop/모션저장\\옆구리\\좌표\n",
      "Data shape: (30, 30, 33, 3), Labels shape: (30,)\n"
     ]
    }
   ],
   "source": [
    "# 데이터 로드\n",
    "data, labels = load_data(base_dir, categories)\n",
    "print(f\"Data shape: {data.shape}, Labels shape: {labels.shape}\")"
   ]
  },
  {
   "cell_type": "code",
   "execution_count": 20,
   "metadata": {},
   "outputs": [],
   "source": [
    "import os\n",
    "import numpy as np\n",
    "\n",
    "# 데이터 경로 및 라벨 매핑\n",
    "data_paths = {\n",
    "    \"등\": \"C:/Users/Admin/Desktop/모션저장/등/좌표\",\n",
    "    \"스쿼트\": \"C:/Users/Admin/Desktop/모션저장/스쿼트/좌표\",\n",
    "    \"옆구리\": \"C:/Users/Admin/Desktop/모션저장/옆구리/좌표\"\n",
    "}\n",
    "labels_map = {\"등\": 0, \"스쿼트\": 1, \"옆구리\": 2}  # 라벨 매핑\n",
    "\n",
    "def load_data(data_paths, labels_map, seq_len=30):\n",
    "    \"\"\"\n",
    "    데이터 로드 및 크기 조정 (패딩 또는 잘라내기).\n",
    "    Args:\n",
    "        data_paths (dict): 카테고리별 데이터 경로.\n",
    "        labels_map (dict): 카테고리와 라벨 매핑.\n",
    "        seq_len (int): 고정된 시퀀스 길이.\n",
    "    Returns:\n",
    "        np.array: 데이터 배열.\n",
    "        np.array: 라벨 배열.\n",
    "    \"\"\"\n",
    "    data = []\n",
    "    labels = []\n",
    "    for category, path in data_paths.items():\n",
    "        print(f\"Checking files in: {path}\")\n",
    "        for i in range(1, 11):  # keypoints_1 ~ keypoints_10\n",
    "            file_path = os.path.join(path, f\"keypoints_{i}.npy\")\n",
    "            if os.path.exists(file_path):\n",
    "                keypoints = np.load(file_path)  # 데이터 로드\n",
    "                if keypoints.shape[0] > seq_len:  # 길이가 seq_len보다 길면 잘라내기\n",
    "                    keypoints = keypoints[:seq_len]\n",
    "                elif keypoints.shape[0] < seq_len:  # 길이가 seq_len보다 짧으면 패딩\n",
    "                    pad_width = seq_len - keypoints.shape[0]\n",
    "                    keypoints = np.pad(keypoints, ((0, pad_width), (0, 0), (0, 0)), mode='constant')\n",
    "                data.append(keypoints)\n",
    "                labels.append(labels_map[category])\n",
    "            else:\n",
    "                print(f\"File not found: {file_path}\")\n",
    "    return np.array(data), np.array(labels)"
   ]
  },
  {
   "cell_type": "code",
   "execution_count": 21,
   "metadata": {},
   "outputs": [
    {
     "name": "stdout",
     "output_type": "stream",
     "text": [
      "Checking files in: C:/Users/Admin/Desktop/모션저장/등/좌표\n",
      "['keypoints_1.npy', 'keypoints_10.npy', 'keypoints_2.npy', 'keypoints_3.npy', 'keypoints_4.npy', 'keypoints_5.npy', 'keypoints_6.npy', 'keypoints_7.npy', 'keypoints_8.npy', 'keypoints_9.npy']\n",
      "Checking files in: C:/Users/Admin/Desktop/모션저장/스쿼트/좌표\n",
      "['keypoints_1.npy', 'keypoints_10.npy', 'keypoints_2.npy', 'keypoints_3.npy', 'keypoints_4.npy', 'keypoints_5.npy', 'keypoints_6.npy', 'keypoints_7.npy', 'keypoints_8.npy', 'keypoints_9.npy']\n",
      "Checking files in: C:/Users/Admin/Desktop/모션저장/옆구리/좌표\n",
      "['keypoints_1.npy', 'keypoints_10.npy', 'keypoints_2.npy', 'keypoints_3.npy', 'keypoints_4.npy', 'keypoints_5.npy', 'keypoints_6.npy', 'keypoints_7.npy', 'keypoints_8.npy', 'keypoints_9.npy']\n"
     ]
    }
   ],
   "source": [
    "import os\n",
    "\n",
    "for label_name, path in data_paths.items():\n",
    "    print(f\"Checking files in: {path}\")\n",
    "    print(os.listdir(path))"
   ]
  },
  {
   "cell_type": "code",
   "execution_count": 22,
   "metadata": {},
   "outputs": [
    {
     "name": "stdout",
     "output_type": "stream",
     "text": [
      "Checking files in: C:/Users/Admin/Desktop/모션저장/등/좌표\n",
      "Checking files in: C:/Users/Admin/Desktop/모션저장/스쿼트/좌표\n",
      "Checking files in: C:/Users/Admin/Desktop/모션저장/옆구리/좌표\n"
     ]
    }
   ],
   "source": [
    "# 데이터 로드\n",
    "X, y = load_data(data_paths, labels_map)"
   ]
  },
  {
   "cell_type": "code",
   "execution_count": 23,
   "metadata": {},
   "outputs": [
    {
     "name": "stdout",
     "output_type": "stream",
     "text": [
      "데이터 크기: (30, 30, 33, 3) (30,)\n"
     ]
    }
   ],
   "source": [
    "# 데이터 크기 확인\n",
    "print(\"데이터 크기:\", X.shape, y.shape)  # Expected output: (30, frames, joints, coords), (30,)"
   ]
  },
  {
   "cell_type": "code",
   "execution_count": 25,
   "metadata": {},
   "outputs": [],
   "source": [
    "# 정규화 함수 정의\n",
    "def normalize_data(data):\n",
    "    \"\"\"\n",
    "    데이터 정규화 (0~1 범위로 스케일링).\n",
    "    Args:\n",
    "        data (np.array): 로드된 데이터, Shape: (samples, frames, joints, coords).\n",
    "    Returns:\n",
    "        np.array: 정규화된 데이터.\n",
    "    \"\"\"\n",
    "    data_min = data.min(axis=(1, 2, 3), keepdims=True)  # 각 샘플별 최소값\n",
    "    data_max = data.max(axis=(1, 2, 3), keepdims=True)  # 각 샘플별 최대값\n",
    "    normalized_data = (data - data_min) / (data_max - data_min + 1e-8)  # 0~1로 스케일링\n",
    "    return normalized_data"
   ]
  },
  {
   "cell_type": "code",
   "execution_count": 26,
   "metadata": {},
   "outputs": [],
   "source": [
    "# 데이터 정규화\n",
    "X_normalized = normalize_data(X)"
   ]
  },
  {
   "cell_type": "code",
   "execution_count": 27,
   "metadata": {},
   "outputs": [
    {
     "name": "stdout",
     "output_type": "stream",
     "text": [
      "Train shape: (21, 30, 33, 3), Validation shape: (4, 30, 33, 3), Test shape: (5, 30, 33, 3)\n"
     ]
    }
   ],
   "source": [
    "# 데이터 분할 (훈련/검증/테스트 세트)\n",
    "X_train, X_temp, y_train, y_temp = train_test_split(X_normalized, y, test_size=0.3, random_state=42, stratify=y)\n",
    "X_val, X_test, y_val, y_test = train_test_split(X_temp, y_temp, test_size=0.5, random_state=42, stratify=y_temp)\n",
    "\n",
    "print(f\"Train shape: {X_train.shape}, Validation shape: {X_val.shape}, Test shape: {X_test.shape}\")"
   ]
  },
  {
   "cell_type": "code",
   "execution_count": 28,
   "metadata": {},
   "outputs": [],
   "source": [
    "# LSTM 모델 정의\n",
    "class LSTMModel(nn.Module):\n",
    "    def __init__(self, input_dim, hidden_dim, output_dim, num_layers=2):\n",
    "        super(LSTMModel, self).__init__()\n",
    "        self.lstm = nn.LSTM(input_dim, hidden_dim, num_layers, batch_first=True)\n",
    "        self.fc = nn.Linear(hidden_dim, output_dim)\n",
    "\n",
    "    def forward(self, x):\n",
    "        out, _ = self.lstm(x)  # LSTM 출력\n",
    "        out = self.fc(out[:, -1, :])  # 마지막 타임스텝의 출력만 사용\n",
    "        return out"
   ]
  },
  {
   "cell_type": "code",
   "execution_count": 29,
   "metadata": {},
   "outputs": [],
   "source": [
    "# 모델 초기화\n",
    "input_dim = X_train.shape[2] * X_train.shape[3]  # 관절 수 * 좌표 수\n",
    "hidden_dim = 128\n",
    "output_dim = len(labels_map)  # 클래스 수 (등, 스쿼트, 옆구리)\n",
    "model = LSTMModel(input_dim=input_dim, hidden_dim=hidden_dim, output_dim=output_dim)"
   ]
  },
  {
   "cell_type": "code",
   "execution_count": 30,
   "metadata": {},
   "outputs": [],
   "source": [
    "# 데이터 로더 생성\n",
    "train_dataset = TensorDataset(torch.tensor(X_train).float(), torch.tensor(y_train).long())\n",
    "val_dataset = TensorDataset(torch.tensor(X_val).float(), torch.tensor(y_val).long())\n",
    "train_loader = DataLoader(train_dataset, batch_size=4, shuffle=True)\n",
    "val_loader = DataLoader(val_dataset, batch_size=4)"
   ]
  },
  {
   "cell_type": "code",
   "execution_count": 31,
   "metadata": {},
   "outputs": [],
   "source": [
    "# 손실 함수 및 옵티마이저\n",
    "criterion = nn.CrossEntropyLoss()\n",
    "optimizer = optim.Adam(model.parameters(), lr=0.001)"
   ]
  },
  {
   "cell_type": "code",
   "execution_count": 35,
   "metadata": {},
   "outputs": [
    {
     "name": "stdout",
     "output_type": "stream",
     "text": [
      "Epoch 1/20, Train Loss: 0.0648, Validation Loss: 0.0414\n",
      "Epoch 2/20, Train Loss: 0.0412, Validation Loss: 0.0274\n",
      "Epoch 3/20, Train Loss: 0.0279, Validation Loss: 0.0191\n",
      "Epoch 4/20, Train Loss: 0.0203, Validation Loss: 0.0142\n",
      "Epoch 5/20, Train Loss: 0.0179, Validation Loss: 0.0113\n",
      "Epoch 6/20, Train Loss: 0.0118, Validation Loss: 0.0091\n",
      "Epoch 7/20, Train Loss: 0.0115, Validation Loss: 0.0078\n",
      "Epoch 8/20, Train Loss: 0.0099, Validation Loss: 0.0068\n",
      "Epoch 9/20, Train Loss: 0.0073, Validation Loss: 0.0060\n",
      "Epoch 10/20, Train Loss: 0.0074, Validation Loss: 0.0054\n",
      "Epoch 11/20, Train Loss: 0.0067, Validation Loss: 0.0049\n",
      "Epoch 12/20, Train Loss: 0.0054, Validation Loss: 0.0045\n",
      "Epoch 13/20, Train Loss: 0.0050, Validation Loss: 0.0042\n",
      "Epoch 14/20, Train Loss: 0.0045, Validation Loss: 0.0040\n",
      "Epoch 15/20, Train Loss: 0.0043, Validation Loss: 0.0037\n",
      "Epoch 16/20, Train Loss: 0.0040, Validation Loss: 0.0035\n",
      "Epoch 17/20, Train Loss: 0.0039, Validation Loss: 0.0033\n",
      "Epoch 18/20, Train Loss: 0.0036, Validation Loss: 0.0032\n",
      "Epoch 19/20, Train Loss: 0.0039, Validation Loss: 0.0030\n",
      "Epoch 20/20, Train Loss: 0.0037, Validation Loss: 0.0029\n"
     ]
    }
   ],
   "source": [
    "# 학습 루프\n",
    "num_epochs = 20\n",
    "for epoch in range(num_epochs):\n",
    "    model.train()\n",
    "    train_loss = 0\n",
    "    for X_batch, y_batch in train_loader:\n",
    "        optimizer.zero_grad()\n",
    "        X_batch = X_batch.view(X_batch.size(0), -1, input_dim)  # 차원 변환 (batch, seq_len, input_dim)\n",
    "        y_pred = model(X_batch)\n",
    "        loss = criterion(y_pred, y_batch)\n",
    "        loss.backward()\n",
    "        optimizer.step()\n",
    "        train_loss += loss.item()\n",
    "    \n",
    "    # 검증 단계\n",
    "    model.eval()\n",
    "    val_loss = 0\n",
    "    with torch.no_grad():\n",
    "        for X_batch, y_batch in val_loader:\n",
    "            X_batch = X_batch.view(X_batch.size(0), -1, input_dim)  # 차원 변환\n",
    "            y_pred = model(X_batch)\n",
    "            val_loss += criterion(y_pred, y_batch).item()\n",
    "    \n",
    "    print(f\"Epoch {epoch + 1}/{num_epochs}, Train Loss: {train_loss / len(train_loader):.4f}, Validation Loss: {val_loss / len(val_loader):.4f}\")"
   ]
  },
  {
   "cell_type": "code",
   "execution_count": 36,
   "metadata": {},
   "outputs": [],
   "source": [
    "from sklearn.metrics import classification_report"
   ]
  },
  {
   "cell_type": "code",
   "execution_count": 37,
   "metadata": {},
   "outputs": [
    {
     "name": "stdout",
     "output_type": "stream",
     "text": [
      "              precision    recall  f1-score   support\n",
      "\n",
      "           등       1.00      1.00      1.00         1\n",
      "         스쿼트       1.00      1.00      1.00         2\n",
      "         옆구리       1.00      1.00      1.00         2\n",
      "\n",
      "    accuracy                           1.00         5\n",
      "   macro avg       1.00      1.00      1.00         5\n",
      "weighted avg       1.00      1.00      1.00         5\n",
      "\n"
     ]
    }
   ],
   "source": [
    "# 테스트 데이터 평가\n",
    "model.eval()\n",
    "y_true, y_pred = [], []\n",
    "test_loader = DataLoader(TensorDataset(torch.tensor(X_test).float(), torch.tensor(y_test).long()), batch_size=4)\n",
    "with torch.no_grad():\n",
    "    for X_batch, y_batch in test_loader:\n",
    "        X_batch = X_batch.view(X_batch.size(0), -1, input_dim)  # 차원 변환\n",
    "        outputs = model(X_batch)\n",
    "        _, preds = torch.max(outputs, 1)\n",
    "        y_true.extend(y_batch.numpy())\n",
    "        y_pred.extend(preds.numpy())\n",
    "\n",
    "print(classification_report(y_true, y_pred, target_names=list(labels_map.keys())))"
   ]
  }
 ],
 "metadata": {
  "kernelspec": {
   "display_name": "myGPU",
   "language": "python",
   "name": "python3"
  },
  "language_info": {
   "codemirror_mode": {
    "name": "ipython",
    "version": 3
   },
   "file_extension": ".py",
   "mimetype": "text/x-python",
   "name": "python",
   "nbconvert_exporter": "python",
   "pygments_lexer": "ipython3",
   "version": "3.10.16"
  }
 },
 "nbformat": 4,
 "nbformat_minor": 2
}
