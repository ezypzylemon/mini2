{
 "cells": [
  {
   "cell_type": "code",
   "execution_count": 49,
   "metadata": {},
   "outputs": [
    {
     "name": "stdout",
     "output_type": "stream",
     "text": [
      "Checking files in: C:/Users/Admin/Desktop/data\\back\\좌표\n",
      "Checking files in: C:/Users/Admin/Desktop/data\\squat\\좌표\n",
      "Checking files in: C:/Users/Admin/Desktop/data\\side\\좌표\n",
      "Data shape: (300, 120, 33, 3), Labels shape: (300,)\n"
     ]
    }
   ],
   "source": [
    "import os\n",
    "import numpy as np\n",
    "from sklearn.model_selection import train_test_split\n",
    "from torch.utils.data import DataLoader, TensorDataset\n",
    "import torch\n",
    "import torch.nn as nn\n",
    "import torch.optim as optim\n",
    "\n",
    "# 데이터 경로 설정\n",
    "base_dir = \"C:/Users/Admin/Desktop/data\"\n",
    "categories = [\"back\", \"squat\", \"side\"]\n",
    "\n",
    "def load_data(base_dir, categories, seq_len=120):\n",
    "    \"\"\"\n",
    "    데이터 로드 및 크기 조정 (패딩 또는 잘라내기).\n",
    "    Args:\n",
    "        base_dir (str): 데이터가 저장된 기본 경로.\n",
    "        categories (list): 행동 카테고리 리스트.\n",
    "        seq_len (int): 고정된 시퀀스 길이.\n",
    "    Returns:\n",
    "        np.array: 데이터 배열.\n",
    "        np.array: 라벨 배열.\n",
    "    \"\"\"\n",
    "    data = []\n",
    "    labels = []\n",
    "    label_map = {category: idx for idx, category in enumerate(categories)}  # 라벨 매핑\n",
    "\n",
    "    for category in categories:\n",
    "        category_path = os.path.join(base_dir, category, \"좌표\")\n",
    "        print(f\"Checking files in: {category_path}\")\n",
    "        for i in range(1, 101):  # keypoints_1 ~ keypoints_100\n",
    "            file_path = os.path.join(category_path, f\"keypoints_{i}.npy\")\n",
    "            if os.path.exists(file_path):\n",
    "                keypoints = np.load(file_path)  # 데이터 로드\n",
    "                if keypoints.shape[0] > seq_len:  # 길이가 seq_len보다 길면 잘라내기\n",
    "                    keypoints = keypoints[:seq_len]\n",
    "                elif keypoints.shape[0] < seq_len:  # 길이가 seq_len보다 짧으면 패딩\n",
    "                    pad_width = seq_len - keypoints.shape[0]\n",
    "                    keypoints = np.pad(keypoints, ((0, pad_width), (0, 0), (0, 0)), mode='constant')\n",
    "                data.append(keypoints)\n",
    "                labels.append(label_map[category])\n",
    "            else:\n",
    "                print(f\"File not found: {file_path}\")\n",
    "\n",
    "    return np.array(data), np.array(labels)\n",
    "\n",
    "# 수정된 데이터 로드 실행\n",
    "data, labels = load_data(base_dir, categories)\n",
    "print(f\"Data shape: {data.shape}, Labels shape: {labels.shape}\")"
   ]
  },
  {
   "cell_type": "code",
   "execution_count": 50,
   "metadata": {},
   "outputs": [],
   "source": [
    "import os\n",
    "import numpy as np\n",
    "\n",
    "# 데이터 경로 및 라벨 매핑\n",
    "data_paths = {\n",
    "    \"back\": \"C:/Users/Admin/Desktop/data/back/좌표\",\n",
    "    \"squat\": \"C:/Users/Admin/Desktop/data/squat/좌표\",\n",
    "    \"side\": \"C:/Users/Admin/Desktop/data/side/좌표\"\n",
    "}\n",
    "labels_map = {\"back\": 0, \"squat\": 1, \"side\": 2}  # 라벨 매핑\n",
    "\n",
    "def load_data(data_paths, labels_map, seq_len=120):\n",
    "    \"\"\"\n",
    "    데이터 로드 및 크기 조정 (패딩 또는 잘라내기).\n",
    "    Args:\n",
    "        data_paths (dict): 카테고리별 데이터 경로.\n",
    "        labels_map (dict): 카테고리와 라벨 매핑.\n",
    "        seq_len (int): 고정된 시퀀스 길이.\n",
    "    Returns:\n",
    "        np.array: 데이터 배열.\n",
    "        np.array: 라벨 배열.\n",
    "    \"\"\"\n",
    "    data = []\n",
    "    labels = []\n",
    "    for category, path in data_paths.items():\n",
    "        print(f\"Checking files in: {path}\")\n",
    "        for i in range(1, 101):  # keypoints_1 ~ keypoints_100\n",
    "            file_path = os.path.join(path, f\"keypoints_{i}.npy\")\n",
    "            if os.path.exists(file_path):\n",
    "                keypoints = np.load(file_path)  # 데이터 로드\n",
    "                if keypoints.shape[0] > seq_len:  # 길이가 seq_len보다 길면 잘라내기\n",
    "                    keypoints = keypoints[:seq_len]\n",
    "                elif keypoints.shape[0] < seq_len:  # 길이가 seq_len보다 짧으면 패딩\n",
    "                    pad_width = seq_len - keypoints.shape[0]\n",
    "                    keypoints = np.pad(keypoints, ((0, pad_width), (0, 0), (0, 0)), mode='constant')\n",
    "                data.append(keypoints)\n",
    "                labels.append(labels_map[category])\n",
    "            else:\n",
    "                print(f\"File not found: {file_path}\")\n",
    "    return np.array(data), np.array(labels)"
   ]
  },
  {
   "cell_type": "code",
   "execution_count": 51,
   "metadata": {},
   "outputs": [
    {
     "name": "stdout",
     "output_type": "stream",
     "text": [
      "Checking files in: C:/Users/Admin/Desktop/data/back/좌표\n",
      "['keypoints_1.npy', 'keypoints_10.npy', 'keypoints_100.npy', 'keypoints_11.npy', 'keypoints_12.npy', 'keypoints_13.npy', 'keypoints_14.npy', 'keypoints_15.npy', 'keypoints_16.npy', 'keypoints_17.npy', 'keypoints_18.npy', 'keypoints_19.npy', 'keypoints_2.npy', 'keypoints_20.npy', 'keypoints_21.npy', 'keypoints_22.npy', 'keypoints_23.npy', 'keypoints_24.npy', 'keypoints_25.npy', 'keypoints_26.npy', 'keypoints_27.npy', 'keypoints_28.npy', 'keypoints_29.npy', 'keypoints_3.npy', 'keypoints_30.npy', 'keypoints_31.npy', 'keypoints_32.npy', 'keypoints_33.npy', 'keypoints_34.npy', 'keypoints_35.npy', 'keypoints_36.npy', 'keypoints_37.npy', 'keypoints_38.npy', 'keypoints_39.npy', 'keypoints_4.npy', 'keypoints_40.npy', 'keypoints_41.npy', 'keypoints_42.npy', 'keypoints_43.npy', 'keypoints_44.npy', 'keypoints_45.npy', 'keypoints_46.npy', 'keypoints_47.npy', 'keypoints_48.npy', 'keypoints_49.npy', 'keypoints_5.npy', 'keypoints_50.npy', 'keypoints_51.npy', 'keypoints_52.npy', 'keypoints_53.npy', 'keypoints_54.npy', 'keypoints_55.npy', 'keypoints_56.npy', 'keypoints_57.npy', 'keypoints_58.npy', 'keypoints_59.npy', 'keypoints_6.npy', 'keypoints_60.npy', 'keypoints_61.npy', 'keypoints_62.npy', 'keypoints_63.npy', 'keypoints_64.npy', 'keypoints_65.npy', 'keypoints_66.npy', 'keypoints_67.npy', 'keypoints_68.npy', 'keypoints_69.npy', 'keypoints_7.npy', 'keypoints_70.npy', 'keypoints_71.npy', 'keypoints_72.npy', 'keypoints_73.npy', 'keypoints_74.npy', 'keypoints_75.npy', 'keypoints_76.npy', 'keypoints_77.npy', 'keypoints_78.npy', 'keypoints_79.npy', 'keypoints_8.npy', 'keypoints_80.npy', 'keypoints_81.npy', 'keypoints_82.npy', 'keypoints_83.npy', 'keypoints_84.npy', 'keypoints_85.npy', 'keypoints_86.npy', 'keypoints_87.npy', 'keypoints_88.npy', 'keypoints_89.npy', 'keypoints_9.npy', 'keypoints_90.npy', 'keypoints_91.npy', 'keypoints_92.npy', 'keypoints_93.npy', 'keypoints_94.npy', 'keypoints_95.npy', 'keypoints_96.npy', 'keypoints_97.npy', 'keypoints_98.npy', 'keypoints_99.npy']\n",
      "Checking files in: C:/Users/Admin/Desktop/data/squat/좌표\n",
      "['keypoints_1.npy', 'keypoints_10.npy', 'keypoints_100.npy', 'keypoints_11.npy', 'keypoints_12.npy', 'keypoints_13.npy', 'keypoints_14.npy', 'keypoints_15.npy', 'keypoints_16.npy', 'keypoints_17.npy', 'keypoints_18.npy', 'keypoints_19.npy', 'keypoints_2.npy', 'keypoints_20.npy', 'keypoints_21.npy', 'keypoints_22.npy', 'keypoints_23.npy', 'keypoints_24.npy', 'keypoints_25.npy', 'keypoints_26.npy', 'keypoints_27.npy', 'keypoints_28.npy', 'keypoints_29.npy', 'keypoints_3.npy', 'keypoints_30.npy', 'keypoints_31.npy', 'keypoints_32.npy', 'keypoints_33.npy', 'keypoints_34.npy', 'keypoints_35.npy', 'keypoints_36.npy', 'keypoints_37.npy', 'keypoints_38.npy', 'keypoints_39.npy', 'keypoints_4.npy', 'keypoints_40.npy', 'keypoints_41.npy', 'keypoints_42.npy', 'keypoints_43.npy', 'keypoints_44.npy', 'keypoints_45.npy', 'keypoints_46.npy', 'keypoints_47.npy', 'keypoints_48.npy', 'keypoints_49.npy', 'keypoints_5.npy', 'keypoints_50.npy', 'keypoints_51.npy', 'keypoints_52.npy', 'keypoints_53.npy', 'keypoints_54.npy', 'keypoints_55.npy', 'keypoints_56.npy', 'keypoints_57.npy', 'keypoints_58.npy', 'keypoints_59.npy', 'keypoints_6.npy', 'keypoints_60.npy', 'keypoints_61.npy', 'keypoints_62.npy', 'keypoints_63.npy', 'keypoints_64.npy', 'keypoints_65.npy', 'keypoints_66.npy', 'keypoints_67.npy', 'keypoints_68.npy', 'keypoints_69.npy', 'keypoints_7.npy', 'keypoints_70.npy', 'keypoints_71.npy', 'keypoints_72.npy', 'keypoints_73.npy', 'keypoints_74.npy', 'keypoints_75.npy', 'keypoints_76.npy', 'keypoints_77.npy', 'keypoints_78.npy', 'keypoints_79.npy', 'keypoints_8.npy', 'keypoints_80.npy', 'keypoints_81.npy', 'keypoints_82.npy', 'keypoints_83.npy', 'keypoints_84.npy', 'keypoints_85.npy', 'keypoints_86.npy', 'keypoints_87.npy', 'keypoints_88.npy', 'keypoints_89.npy', 'keypoints_9.npy', 'keypoints_90.npy', 'keypoints_91.npy', 'keypoints_92.npy', 'keypoints_93.npy', 'keypoints_94.npy', 'keypoints_95.npy', 'keypoints_96.npy', 'keypoints_97.npy', 'keypoints_98.npy', 'keypoints_99.npy']\n",
      "Checking files in: C:/Users/Admin/Desktop/data/side/좌표\n",
      "['keypoints_1.npy', 'keypoints_10.npy', 'keypoints_100.npy', 'keypoints_11.npy', 'keypoints_12.npy', 'keypoints_13.npy', 'keypoints_14.npy', 'keypoints_15.npy', 'keypoints_16.npy', 'keypoints_17.npy', 'keypoints_18.npy', 'keypoints_19.npy', 'keypoints_2.npy', 'keypoints_20.npy', 'keypoints_21.npy', 'keypoints_22.npy', 'keypoints_23.npy', 'keypoints_24.npy', 'keypoints_25.npy', 'keypoints_26.npy', 'keypoints_27.npy', 'keypoints_28.npy', 'keypoints_29.npy', 'keypoints_3.npy', 'keypoints_30.npy', 'keypoints_31.npy', 'keypoints_32.npy', 'keypoints_33.npy', 'keypoints_34.npy', 'keypoints_35.npy', 'keypoints_36.npy', 'keypoints_37.npy', 'keypoints_38.npy', 'keypoints_39.npy', 'keypoints_4.npy', 'keypoints_40.npy', 'keypoints_41.npy', 'keypoints_42.npy', 'keypoints_43.npy', 'keypoints_44.npy', 'keypoints_45.npy', 'keypoints_46.npy', 'keypoints_47.npy', 'keypoints_48.npy', 'keypoints_49.npy', 'keypoints_5.npy', 'keypoints_50.npy', 'keypoints_51.npy', 'keypoints_52.npy', 'keypoints_53.npy', 'keypoints_54.npy', 'keypoints_55.npy', 'keypoints_56.npy', 'keypoints_57.npy', 'keypoints_58.npy', 'keypoints_59.npy', 'keypoints_6.npy', 'keypoints_60.npy', 'keypoints_61.npy', 'keypoints_62.npy', 'keypoints_63.npy', 'keypoints_64.npy', 'keypoints_65.npy', 'keypoints_66.npy', 'keypoints_67.npy', 'keypoints_68.npy', 'keypoints_69.npy', 'keypoints_7.npy', 'keypoints_70.npy', 'keypoints_71.npy', 'keypoints_72.npy', 'keypoints_73.npy', 'keypoints_74.npy', 'keypoints_75.npy', 'keypoints_76.npy', 'keypoints_77.npy', 'keypoints_78.npy', 'keypoints_79.npy', 'keypoints_8.npy', 'keypoints_80.npy', 'keypoints_81.npy', 'keypoints_82.npy', 'keypoints_83.npy', 'keypoints_84.npy', 'keypoints_85.npy', 'keypoints_86.npy', 'keypoints_87.npy', 'keypoints_88.npy', 'keypoints_89.npy', 'keypoints_9.npy', 'keypoints_90.npy', 'keypoints_91.npy', 'keypoints_92.npy', 'keypoints_93.npy', 'keypoints_94.npy', 'keypoints_95.npy', 'keypoints_96.npy', 'keypoints_97.npy', 'keypoints_98.npy', 'keypoints_99.npy']\n",
      "Checking files in: C:/Users/Admin/Desktop/data/back/좌표\n",
      "Checking files in: C:/Users/Admin/Desktop/data/squat/좌표\n",
      "Checking files in: C:/Users/Admin/Desktop/data/side/좌표\n",
      "데이터 크기: (300, 120, 33, 3) (300,)\n"
     ]
    }
   ],
   "source": [
    "import os\n",
    "\n",
    "for label_name, path in data_paths.items():\n",
    "    print(f\"Checking files in: {path}\")\n",
    "    print(os.listdir(path))\n",
    "\n",
    "# 데이터 로드\n",
    "X, y = load_data(data_paths, labels_map)\n",
    "\n",
    "# 데이터 크기 확인\n",
    "print(\"데이터 크기:\", X.shape, y.shape)  # Expected output: (30, frames, joints, coords), (30,)"
   ]
  },
  {
   "cell_type": "code",
   "execution_count": 52,
   "metadata": {},
   "outputs": [],
   "source": [
    "def standardize_data(data):\n",
    "    \"\"\"\n",
    "    데이터 표준화 (평균 0, 표준편차 1).\n",
    "    Args:\n",
    "        data (np.array): 원본 데이터, Shape: (samples, frames, joints, coords).\n",
    "    Returns:\n",
    "        np.array: 표준화된 데이터.\n",
    "    \"\"\"\n",
    "    mean = data.mean(axis=(1, 2, 3), keepdims=True)  # 샘플별 평균 계산\n",
    "    std = data.std(axis=(1, 2, 3), keepdims=True)  # 샘플별 표준편차 계산\n",
    "    standardized_data = (data - mean) / (std + 1e-8)  # 표준화\n",
    "    return standardized_data\n",
    "\n",
    "# 데이터 표준화 적용\n",
    "X_standardized = standardize_data(X)"
   ]
  },
  {
   "cell_type": "code",
   "execution_count": 53,
   "metadata": {},
   "outputs": [
    {
     "name": "stdout",
     "output_type": "stream",
     "text": [
      "Train shape: (210, 120, 33, 3), Validation shape: (45, 120, 33, 3), Test shape: (45, 120, 33, 3)\n"
     ]
    }
   ],
   "source": [
    "# 데이터 분할 (훈련/검증/테스트 세트)\n",
    "X_train, X_temp, y_train, y_temp = train_test_split(X_standardized, y, test_size=0.3, random_state=42, stratify=y)\n",
    "X_val, X_test, y_val, y_test = train_test_split(X_temp, y_temp, test_size=0.5, random_state=42, stratify=y_temp)\n",
    "\n",
    "print(f\"Train shape: {X_train.shape}, Validation shape: {X_val.shape}, Test shape: {X_test.shape}\")"
   ]
  },
  {
   "cell_type": "code",
   "execution_count": 54,
   "metadata": {},
   "outputs": [],
   "source": [
    "# LSTM 모델 정의\n",
    "class LSTMModel(nn.Module):\n",
    "    def __init__(self, input_dim, hidden_dim, output_dim, num_layers=3):\n",
    "        super(LSTMModel, self).__init__()\n",
    "        self.lstm = nn.LSTM(input_dim, hidden_dim, num_layers, batch_first=True)\n",
    "        self.fc = nn.Linear(hidden_dim, output_dim)\n",
    "\n",
    "    def forward(self, x):\n",
    "        out, _ = self.lstm(x)  # LSTM 출력\n",
    "        out = self.fc(out[:, -1, :])  # 마지막 타임스텝의 출력만 사용\n",
    "        return out\n",
    "    \n",
    "# 모델 초기화\n",
    "input_dim = X_train.shape[2] * X_train.shape[3]  # 관절 수 * 좌표 수\n",
    "hidden_dim = 256\n",
    "output_dim = len(labels_map)  # 클래스 수 (등, 스쿼트, 옆구리)\n",
    "model = LSTMModel(input_dim=input_dim, hidden_dim=hidden_dim, output_dim=output_dim)\n",
    "\n",
    "# 데이터 로더 생성\n",
    "train_dataset = TensorDataset(torch.tensor(X_train).float(), torch.tensor(y_train).long())\n",
    "val_dataset = TensorDataset(torch.tensor(X_val).float(), torch.tensor(y_val).long())\n",
    "train_loader = DataLoader(train_dataset, batch_size=4, shuffle=True)\n",
    "val_loader = DataLoader(val_dataset, batch_size=4)"
   ]
  },
  {
   "cell_type": "code",
   "execution_count": 55,
   "metadata": {},
   "outputs": [],
   "source": [
    "from sklearn.utils.class_weight import compute_class_weight\n",
    "\n",
    "# 손실 함수 및 옵티마이저\n",
    "criterion = nn.CrossEntropyLoss()\n",
    "optimizer = optim.Adam(model.parameters(), lr=0.001)\n",
    "\n",
    "# 손실 함수 가중치 조정\n",
    "class_weights = compute_class_weight('balanced', classes=np.unique(y_train), y=y_train)\n",
    "criterion = nn.CrossEntropyLoss(weight=torch.tensor(class_weights, dtype=torch.float))"
   ]
  },
  {
   "cell_type": "code",
   "execution_count": 56,
   "metadata": {},
   "outputs": [
    {
     "name": "stdout",
     "output_type": "stream",
     "text": [
      "Epoch 1/100, Train Loss: 0.8206, Validation Loss: 0.8040\n",
      "Epoch 2/100, Train Loss: 0.5811, Validation Loss: 0.5091\n",
      "Epoch 3/100, Train Loss: 0.5322, Validation Loss: 0.4603\n",
      "Epoch 4/100, Train Loss: 0.5053, Validation Loss: 0.5846\n",
      "Epoch 5/100, Train Loss: 0.5348, Validation Loss: 0.4727\n",
      "Epoch 6/100, Train Loss: 0.4396, Validation Loss: 0.2168\n",
      "Epoch 7/100, Train Loss: 0.2819, Validation Loss: 0.5482\n",
      "Epoch 8/100, Train Loss: 0.4286, Validation Loss: 0.1581\n",
      "Epoch 9/100, Train Loss: 0.2669, Validation Loss: 0.1172\n",
      "Epoch 10/100, Train Loss: 0.1880, Validation Loss: 0.1299\n",
      "Epoch 11/100, Train Loss: 0.1404, Validation Loss: 0.1032\n",
      "Epoch 12/100, Train Loss: 0.1762, Validation Loss: 0.1252\n",
      "Epoch 13/100, Train Loss: 0.1420, Validation Loss: 0.0468\n",
      "Epoch 14/100, Train Loss: 0.0904, Validation Loss: 0.0403\n",
      "Epoch 15/100, Train Loss: 0.0531, Validation Loss: 0.0167\n",
      "Epoch 16/100, Train Loss: 0.0492, Validation Loss: 0.1002\n",
      "Epoch 17/100, Train Loss: 0.0493, Validation Loss: 0.0303\n",
      "Epoch 18/100, Train Loss: 0.0451, Validation Loss: 0.0648\n",
      "Epoch 19/100, Train Loss: 0.0429, Validation Loss: 0.0262\n",
      "Epoch 20/100, Train Loss: 0.0227, Validation Loss: 0.0057\n",
      "Epoch 21/100, Train Loss: 0.0209, Validation Loss: 0.0172\n",
      "Epoch 22/100, Train Loss: 0.0267, Validation Loss: 0.0279\n",
      "Epoch 23/100, Train Loss: 0.0123, Validation Loss: 0.0059\n",
      "Epoch 24/100, Train Loss: 0.0100, Validation Loss: 0.0185\n",
      "Epoch 25/100, Train Loss: 0.0109, Validation Loss: 0.0088\n",
      "Epoch 26/100, Train Loss: 0.0090, Validation Loss: 0.0081\n",
      "Epoch 27/100, Train Loss: 0.0064, Validation Loss: 0.0107\n",
      "Early stopping triggered. Training stopped.\n"
     ]
    }
   ],
   "source": [
    "from torch.optim.lr_scheduler import StepLR\n",
    "import numpy as np\n",
    "import torch\n",
    "\n",
    "# EarlyStopping 클래스 정의\n",
    "class EarlyStopping:\n",
    "    def __init__(self, patience=7, min_delta=0):\n",
    "        self.patience = patience\n",
    "        self.min_delta = min_delta\n",
    "        self.counter = 0\n",
    "        self.best_loss = np.inf\n",
    "        self.early_stop = False\n",
    "\n",
    "    def __call__(self, val_loss):\n",
    "        if self.best_loss - val_loss > self.min_delta:\n",
    "            self.best_loss = val_loss\n",
    "            self.counter = 0\n",
    "        else:\n",
    "            self.counter += 1\n",
    "            if self.counter >= self.patience:\n",
    "                self.early_stop = True\n",
    "\n",
    "# 학습률 스케줄러 추가\n",
    "scheduler = StepLR(optimizer, step_size=5, gamma=0.5)\n",
    "\n",
    "# EarlyStopping 객체 생성\n",
    "early_stopping = EarlyStopping(patience=7, min_delta=0.0001)\n",
    "\n",
    "# 학습 루프\n",
    "num_epochs = 100  # 에포크를 100번으로 설정\n",
    "for epoch in range(num_epochs):\n",
    "    model.train()\n",
    "    train_loss = 0\n",
    "    for X_batch, y_batch in train_loader:\n",
    "        optimizer.zero_grad()\n",
    "        X_batch = X_batch.view(X_batch.size(0), -1, input_dim)\n",
    "        y_pred = model(X_batch)\n",
    "        loss = criterion(y_pred, y_batch)\n",
    "        loss.backward()\n",
    "        optimizer.step()\n",
    "        train_loss += loss.item()\n",
    "\n",
    "    # 학습률 스케줄러 업데이트\n",
    "    scheduler.step()\n",
    "\n",
    "    # 검증 단계\n",
    "    model.eval()\n",
    "    val_loss = 0\n",
    "    with torch.no_grad():\n",
    "        for X_batch, y_batch in val_loader:\n",
    "            X_batch = X_batch.view(X_batch.size(0), -1, input_dim)\n",
    "            y_pred = model(X_batch)\n",
    "            val_loss += criterion(y_pred, y_batch).item()\n",
    "\n",
    "    print(f\"Epoch {epoch + 1}/{num_epochs}, Train Loss: {train_loss / len(train_loader):.4f}, Validation Loss: {val_loss / len(val_loader):.4f}\")\n",
    "\n",
    "    # Early Stopping 확인\n",
    "    early_stopping(val_loss / len(val_loader))\n",
    "    if early_stopping.early_stop:\n",
    "        print(\"Early stopping triggered. Training stopped.\")\n",
    "        break\n"
   ]
  },
  {
   "cell_type": "code",
   "execution_count": 57,
   "metadata": {},
   "outputs": [
    {
     "name": "stdout",
     "output_type": "stream",
     "text": [
      "Data min: -1.3231176137924194, Data max: 1.0206526517868042\n",
      "Class distribution: [100 100 100]\n"
     ]
    }
   ],
   "source": [
    "print(f\"Data min: {X.min()}, Data max: {X.max()}\")\n",
    "print(f\"Class distribution: {np.bincount(y)}\")"
   ]
  },
  {
   "cell_type": "code",
   "execution_count": 58,
   "metadata": {},
   "outputs": [
    {
     "name": "stdout",
     "output_type": "stream",
     "text": [
      "              precision    recall  f1-score   support\n",
      "\n",
      "        back       1.00      1.00      1.00        15\n",
      "       squat       1.00      1.00      1.00        15\n",
      "        side       1.00      1.00      1.00        15\n",
      "\n",
      "    accuracy                           1.00        45\n",
      "   macro avg       1.00      1.00      1.00        45\n",
      "weighted avg       1.00      1.00      1.00        45\n",
      "\n"
     ]
    }
   ],
   "source": [
    "# 테스트 데이터 평가\n",
    "from sklearn.metrics import classification_report\n",
    "model.eval()\n",
    "y_true, y_pred = [], []\n",
    "test_loader = DataLoader(TensorDataset(torch.tensor(X_test).float(), torch.tensor(y_test).long()), batch_size=4)\n",
    "with torch.no_grad():\n",
    "    for X_batch, y_batch in test_loader:\n",
    "        X_batch = X_batch.view(X_batch.size(0), -1, input_dim)  # 차원 변환\n",
    "        outputs = model(X_batch)\n",
    "        _, preds = torch.max(outputs, 1)\n",
    "        y_true.extend(y_batch.numpy())\n",
    "        y_pred.extend(preds.numpy())\n",
    "\n",
    "print(classification_report(y_true, y_pred, target_names=list(labels_map.keys())))"
   ]
  },
  {
   "cell_type": "code",
   "execution_count": 59,
   "metadata": {},
   "outputs": [
    {
     "name": "stdout",
     "output_type": "stream",
     "text": [
      "[[15  0  0]\n",
      " [ 0 15  0]\n",
      " [ 0  0 15]]\n"
     ]
    }
   ],
   "source": [
    "from sklearn.metrics import classification_report, confusion_matrix\n",
    "print(confusion_matrix(y_true, y_pred))"
   ]
  },
  {
   "cell_type": "code",
   "execution_count": 60,
   "metadata": {},
   "outputs": [
    {
     "name": "stdout",
     "output_type": "stream",
     "text": [
      "Scripted model saved to C:/Users/Admin/Desktop\\lstm_model_scripted.pt\n"
     ]
    }
   ],
   "source": [
    "import torch\n",
    "import torch.nn as nn\n",
    "import os\n",
    "'''\n",
    "# LSTM 모델 정의\n",
    "class LSTMModel(nn.Module):\n",
    "    def __init__(self, input_dim, hidden_dim, output_dim, num_layers=3):\n",
    "        super(LSTMModel, self).__init__()\n",
    "        self.lstm = nn.LSTM(input_dim, hidden_dim, num_layers, batch_first=True)\n",
    "        self.fc = nn.Linear(hidden_dim, output_dim)\n",
    "\n",
    "    def forward(self, x):\n",
    "        out, _ = self.lstm(x)  # LSTM 출력\n",
    "        out = self.fc(out[:, -1, :])  # 마지막 타임스텝의 출력만 사용\n",
    "        return out\n",
    "\n",
    "# 모델 초기화\n",
    "input_dim = 34  # 입력 크기: 34\n",
    "hidden_dim = 64  # LSTM의 은닉 상태 크기\n",
    "output_dim = 3  # 출력 클래스 수 (e.g., Back, Squat, Side)\n",
    "num_layers = 3  # LSTM 레이어 수\n",
    "model = LSTMModel(input_dim, hidden_dim, output_dim, num_layers)\n",
    "'''\n",
    "\n",
    "# TorchScript로 변환\n",
    "scripted_model = torch.jit.script(model)\n",
    "\n",
    "# 경로 설정\n",
    "output_dir = \"C:/Users/Admin/Desktop\"\n",
    "os.makedirs(output_dir, exist_ok=True)  # 디렉토리가 없으면 생성\n",
    "model_path = os.path.join(output_dir, \"lstm_model_scripted.pt\")\n",
    "\n",
    "# TorchScript 모델 저장\n",
    "scripted_model.save(model_path)\n",
    "print(f\"Scripted model saved to {model_path}\")\n"
   ]
  }
 ],
 "metadata": {
  "kernelspec": {
   "display_name": "myGPU",
   "language": "python",
   "name": "python3"
  },
  "language_info": {
   "codemirror_mode": {
    "name": "ipython",
    "version": 3
   },
   "file_extension": ".py",
   "mimetype": "text/x-python",
   "name": "python",
   "nbconvert_exporter": "python",
   "pygments_lexer": "ipython3",
   "version": "3.10.16"
  }
 },
 "nbformat": 4,
 "nbformat_minor": 2
}
